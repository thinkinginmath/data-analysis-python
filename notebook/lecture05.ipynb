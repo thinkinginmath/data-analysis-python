{
 "cells": [
  {
   "cell_type": "code",
   "execution_count": 1,
   "metadata": {},
   "outputs": [
    {
     "data": {
      "text/plain": [
       "'3.6.5 (v3.6.5:f59c0932b4, Mar 28 2018, 03:03:55) \\n[GCC 4.2.1 (Apple Inc. build 5666) (dot 3)]'"
      ]
     },
     "execution_count": 1,
     "metadata": {},
     "output_type": "execute_result"
    }
   ],
   "source": [
    "import sys\n",
    "sys.version"
   ]
  },
  {
   "cell_type": "code",
   "execution_count": 3,
   "metadata": {},
   "outputs": [],
   "source": [
    "f = open('demo.txt')"
   ]
  },
  {
   "cell_type": "code",
   "execution_count": 4,
   "metadata": {},
   "outputs": [
    {
     "data": {
      "text/plain": [
       "'This is a demo file.\\n'"
      ]
     },
     "execution_count": 4,
     "metadata": {},
     "output_type": "execute_result"
    }
   ],
   "source": [
    "f = open('demo.txt')\n",
    "f.readline()"
   ]
  },
  {
   "cell_type": "code",
   "execution_count": 5,
   "metadata": {},
   "outputs": [
    {
     "data": {
      "text/plain": [
       "'It is a text file, containing three lines of text.\\n'"
      ]
     },
     "execution_count": 5,
     "metadata": {},
     "output_type": "execute_result"
    }
   ],
   "source": [
    "f.readline()"
   ]
  },
  {
   "cell_type": "code",
   "execution_count": 6,
   "metadata": {},
   "outputs": [
    {
     "data": {
      "text/plain": [
       "'Here is the third line.\\n'"
      ]
     },
     "execution_count": 6,
     "metadata": {},
     "output_type": "execute_result"
    }
   ],
   "source": [
    "f.readline()"
   ]
  },
  {
   "cell_type": "code",
   "execution_count": 7,
   "metadata": {},
   "outputs": [
    {
     "data": {
      "text/plain": [
       "''"
      ]
     },
     "execution_count": 7,
     "metadata": {},
     "output_type": "execute_result"
    }
   ],
   "source": [
    "f.readline()"
   ]
  },
  {
   "cell_type": "code",
   "execution_count": 8,
   "metadata": {},
   "outputs": [
    {
     "name": "stdout",
     "output_type": "stream",
     "text": [
      "This\n",
      "is\n",
      "a\n",
      "demo\n",
      "file\n",
      "It\n",
      "is\n",
      "a\n",
      "text\n",
      "file\n",
      "containing\n",
      "three\n",
      "lines\n",
      "of\n",
      "text\n",
      "Here\n",
      "is\n",
      "the\n",
      "third\n",
      "line\n"
     ]
    }
   ],
   "source": [
    "f = open('demo.txt')\n",
    "for line in f:\n",
    "    for wd in line.split():\n",
    "        print(wd.strip('.,'))"
   ]
  },
  {
   "cell_type": "code",
   "execution_count": 9,
   "metadata": {},
   "outputs": [
    {
     "name": "stdout",
     "output_type": "stream",
     "text": [
      "This\n",
      "is\n",
      "a\n",
      "demo\n",
      "file\n",
      "It\n",
      "is\n",
      "a\n",
      "text\n",
      "file\n",
      "containing\n",
      "three\n",
      "lines\n",
      "of\n",
      "text\n",
      "Here\n",
      "is\n",
      "the\n",
      "third\n",
      "line\n"
     ]
    }
   ],
   "source": [
    "with open('demo.txt') as f:\n",
    "    for line in f:\n",
    "        for wd in line.split():\n",
    "            print(wd.strip('.,'))"
   ]
  },
  {
   "cell_type": "code",
   "execution_count": 10,
   "metadata": {},
   "outputs": [
    {
     "ename": "UnsupportedOperation",
     "evalue": "not readable",
     "output_type": "error",
     "traceback": [
      "\u001b[0;31m---------------------------------------------------------------------------\u001b[0m",
      "\u001b[0;31mUnsupportedOperation\u001b[0m                      Traceback (most recent call last)",
      "\u001b[0;32m<ipython-input-10-3b1ef477003a>\u001b[0m in \u001b[0;36m<module>\u001b[0;34m()\u001b[0m\n\u001b[1;32m      1\u001b[0m \u001b[0mf\u001b[0m \u001b[0;34m=\u001b[0m \u001b[0mopen\u001b[0m\u001b[0;34m(\u001b[0m\u001b[0;34m'animals.txt'\u001b[0m\u001b[0;34m,\u001b[0m \u001b[0;34m'w'\u001b[0m\u001b[0;34m)\u001b[0m\u001b[0;34m\u001b[0m\u001b[0m\n\u001b[0;32m----> 2\u001b[0;31m \u001b[0mf\u001b[0m\u001b[0;34m.\u001b[0m\u001b[0mread\u001b[0m\u001b[0;34m(\u001b[0m\u001b[0;34m)\u001b[0m\u001b[0;34m\u001b[0m\u001b[0m\n\u001b[0m",
      "\u001b[0;31mUnsupportedOperation\u001b[0m: not readable"
     ]
    }
   ],
   "source": [
    "f = open('animals.txt', 'w')\n",
    "f.read()"
   ]
  },
  {
   "cell_type": "code",
   "execution_count": 11,
   "metadata": {},
   "outputs": [
    {
     "data": {
      "text/plain": [
       "5"
      ]
     },
     "execution_count": 11,
     "metadata": {},
     "output_type": "execute_result"
    }
   ],
   "source": [
    "f.write('cat\\n')\n",
    "f.write('dog\\n')\n",
    "f.write('bird\\n')\n",
    "f.write('goat\\n')"
   ]
  },
  {
   "cell_type": "code",
   "execution_count": 12,
   "metadata": {},
   "outputs": [],
   "source": [
    "f = open('animals.txt', 'w')\n",
    "f.write('cat\\n')\n",
    "f.write('dog\\n')\n",
    "f.write('bird\\n')\n",
    "f.write('goat\\n')\n",
    "f.close()"
   ]
  },
  {
   "cell_type": "code",
   "execution_count": 13,
   "metadata": {},
   "outputs": [
    {
     "name": "stdout",
     "output_type": "stream",
     "text": [
      "cat\n",
      "dog\n",
      "bird\n",
      "goat\n"
     ]
    }
   ],
   "source": [
    "f = open('animals.txt', 'r')\n",
    "for line in f:\n",
    "    print(line, end=\"\")"
   ]
  },
  {
   "cell_type": "code",
   "execution_count": 14,
   "metadata": {},
   "outputs": [
    {
     "name": "stdout",
     "output_type": "stream",
     "text": [
      "x = 23\n"
     ]
    }
   ],
   "source": [
    "x = 23\n",
    "print('x = %d' % x)"
   ]
  },
  {
   "cell_type": "code",
   "execution_count": 15,
   "metadata": {},
   "outputs": [
    {
     "name": "stdout",
     "output_type": "stream",
     "text": [
      "My pet unicorn\n"
     ]
    }
   ],
   "source": [
    "animal = 'unicorn'\n",
    "print('My pet %s' % animal)"
   ]
  },
  {
   "cell_type": "code",
   "execution_count": 16,
   "metadata": {},
   "outputs": [
    {
     "name": "stdout",
     "output_type": "stream",
     "text": [
      "2.718000 divided by 1.618000 is 1.679852\n"
     ]
    }
   ],
   "source": [
    "x = 2.718; y = 1.618\n",
    "print('%f divided by %f is %f' % (x,y,x/y))"
   ]
  },
  {
   "cell_type": "code",
   "execution_count": 20,
   "metadata": {},
   "outputs": [
    {
     "name": "stdout",
     "output_type": "stream",
     "text": [
      "2.718 divided by 1.618 is 1.67985167\n"
     ]
    }
   ],
   "source": [
    "print('%.3f divided by %.3f is %.8f' % (x,y,x/y))"
   ]
  },
  {
   "cell_type": "code",
   "execution_count": 19,
   "metadata": {},
   "outputs": [
    {
     "ename": "TypeError",
     "evalue": "not all arguments converted during string formatting",
     "output_type": "error",
     "traceback": [
      "\u001b[0;31m---------------------------------------------------------------------------\u001b[0m",
      "\u001b[0;31mTypeError\u001b[0m                                 Traceback (most recent call last)",
      "\u001b[0;32m<ipython-input-19-eb736fce3612>\u001b[0m in \u001b[0;36m<module>\u001b[0;34m()\u001b[0m\n\u001b[1;32m      1\u001b[0m \u001b[0mx\u001b[0m \u001b[0;34m=\u001b[0m \u001b[0;36m2.718\u001b[0m\u001b[0;34m;\u001b[0m \u001b[0my\u001b[0m \u001b[0;34m=\u001b[0m \u001b[0;36m1.618\u001b[0m\u001b[0;34m\u001b[0m\u001b[0m\n\u001b[0;32m----> 2\u001b[0;31m \u001b[0mprint\u001b[0m\u001b[0;34m(\u001b[0m\u001b[0;34m'%f divided by %f is %f'\u001b[0m \u001b[0;34m%\u001b[0m \u001b[0;34m(\u001b[0m\u001b[0mx\u001b[0m\u001b[0;34m,\u001b[0m\u001b[0my\u001b[0m\u001b[0;34m,\u001b[0m\u001b[0mx\u001b[0m\u001b[0;34m/\u001b[0m\u001b[0my\u001b[0m\u001b[0;34m,\u001b[0m\u001b[0;36m1.0\u001b[0m\u001b[0;34m)\u001b[0m\u001b[0;34m)\u001b[0m\u001b[0;34m\u001b[0m\u001b[0m\n\u001b[0m",
      "\u001b[0;31mTypeError\u001b[0m: not all arguments converted during string formatting"
     ]
    }
   ],
   "source": [
    "x = 2.718; y = 1.618\n",
    "print('%f divided by %f is %f' % (x,y,x/y,1.0))"
   ]
  },
  {
   "cell_type": "code",
   "execution_count": 16,
   "metadata": {},
   "outputs": [
    {
     "ename": "TypeError",
     "evalue": "not enough arguments for format string",
     "output_type": "error",
     "traceback": [
      "\u001b[0;31m---------------------------------------------------------------------------\u001b[0m",
      "\u001b[0;31mTypeError\u001b[0m                                 Traceback (most recent call last)",
      "\u001b[0;32m<ipython-input-16-b2e6a26d3415>\u001b[0m in \u001b[0;36m<module>\u001b[0;34m()\u001b[0m\n\u001b[1;32m      1\u001b[0m \u001b[0mx\u001b[0m \u001b[0;34m=\u001b[0m \u001b[0;36m2.718\u001b[0m\u001b[0;34m;\u001b[0m \u001b[0my\u001b[0m \u001b[0;34m=\u001b[0m \u001b[0;36m1.618\u001b[0m\u001b[0;34m\u001b[0m\u001b[0m\n\u001b[0;32m----> 2\u001b[0;31m \u001b[0mprint\u001b[0m\u001b[0;34m(\u001b[0m\u001b[0;34m'%f divided by %f is %f'\u001b[0m \u001b[0;34m%\u001b[0m \u001b[0;34m(\u001b[0m\u001b[0mx\u001b[0m\u001b[0;34m,\u001b[0m\u001b[0my\u001b[0m\u001b[0;34m)\u001b[0m\u001b[0;34m)\u001b[0m\u001b[0;34m\u001b[0m\u001b[0m\n\u001b[0m",
      "\u001b[0;31mTypeError\u001b[0m: not enough arguments for format string"
     ]
    }
   ],
   "source": [
    "x = 2.718; y = 1.618\n",
    "print('%f divided by %f is %f' % (x,y))"
   ]
  },
  {
   "cell_type": "code",
   "execution_count": 22,
   "metadata": {},
   "outputs": [],
   "source": [
    "import os\n",
    "os.chdir('/Users/keith/demo/L5_FilesClasses/')"
   ]
  },
  {
   "cell_type": "code",
   "execution_count": 23,
   "metadata": {},
   "outputs": [
    {
     "data": {
      "text/plain": [
       "'/Users/keith/demo/L5_FilesClasses'"
      ]
     },
     "execution_count": 23,
     "metadata": {},
     "output_type": "execute_result"
    }
   ],
   "source": [
    "import os\n",
    "cwd = os.getcwd()\n",
    "cwd"
   ]
  },
  {
   "cell_type": "code",
   "execution_count": 24,
   "metadata": {},
   "outputs": [
    {
     "data": {
      "text/plain": [
       "[]"
      ]
     },
     "execution_count": 24,
     "metadata": {},
     "output_type": "execute_result"
    }
   ],
   "source": [
    "os.listdir()"
   ]
  },
  {
   "cell_type": "code",
   "execution_count": 20,
   "metadata": {},
   "outputs": [
    {
     "data": {
      "text/plain": [
       "['extra', 'numbers.txt', 'pi.txt']"
      ]
     },
     "execution_count": 20,
     "metadata": {},
     "output_type": "execute_result"
    }
   ],
   "source": [
    "os.listdir('data')"
   ]
  },
  {
   "cell_type": "code",
   "execution_count": 21,
   "metadata": {},
   "outputs": [
    {
     "data": {
      "text/plain": [
       "'/Users/keith/demo/L6_Files/data/pi.txt'"
      ]
     },
     "execution_count": 21,
     "metadata": {},
     "output_type": "execute_result"
    }
   ],
   "source": [
    "os.path.abspath('data/pi.txt')"
   ]
  },
  {
   "cell_type": "code",
   "execution_count": 22,
   "metadata": {},
   "outputs": [
    {
     "data": {
      "text/plain": [
       "['extra', 'numbers.txt', 'pi.txt']"
      ]
     },
     "execution_count": 22,
     "metadata": {},
     "output_type": "execute_result"
    }
   ],
   "source": [
    "import os\n",
    "os.chdir('/Users/keith/demo/L5_ClassesFiles')\n",
    "os.listdir('data')"
   ]
  },
  {
   "cell_type": "code",
   "execution_count": 23,
   "metadata": {},
   "outputs": [
    {
     "data": {
      "text/plain": [
       "True"
      ]
     },
     "execution_count": 23,
     "metadata": {},
     "output_type": "execute_result"
    }
   ],
   "source": [
    "os.path.exists('data/pi.txt')"
   ]
  },
  {
   "cell_type": "code",
   "execution_count": 24,
   "metadata": {},
   "outputs": [
    {
     "data": {
      "text/plain": [
       "False"
      ]
     },
     "execution_count": 24,
     "metadata": {},
     "output_type": "execute_result"
    }
   ],
   "source": [
    "os.path.exists('data/nonsense.txt')"
   ]
  },
  {
   "cell_type": "code",
   "execution_count": 25,
   "metadata": {},
   "outputs": [
    {
     "data": {
      "text/plain": [
       "True"
      ]
     },
     "execution_count": 25,
     "metadata": {},
     "output_type": "execute_result"
    }
   ],
   "source": [
    "os.path.isdir('data/extra')"
   ]
  },
  {
   "cell_type": "code",
   "execution_count": 26,
   "metadata": {},
   "outputs": [
    {
     "data": {
      "text/plain": [
       "False"
      ]
     },
     "execution_count": 26,
     "metadata": {},
     "output_type": "execute_result"
    }
   ],
   "source": [
    "os.path.isdir('data/numbers.txt')"
   ]
  },
  {
   "cell_type": "code",
   "execution_count": 27,
   "metadata": {},
   "outputs": [
    {
     "data": {
      "text/plain": [
       "['backup_file.txt', 'data', 'prime.py', 'scripts']"
      ]
     },
     "execution_count": 27,
     "metadata": {},
     "output_type": "execute_result"
    }
   ],
   "source": [
    "import os\n",
    "os.listdir()"
   ]
  },
  {
   "cell_type": "code",
   "execution_count": 28,
   "metadata": {},
   "outputs": [
    {
     "data": {
      "text/plain": [
       "'This is a backup file.\\n'"
      ]
     },
     "execution_count": 28,
     "metadata": {},
     "output_type": "execute_result"
    }
   ],
   "source": [
    "try:\n",
    "    f = open('nonsense.txt')\n",
    "except:\n",
    "    f = open('backup_file.txt')\n",
    "f.read()"
   ]
  },
  {
   "cell_type": "code",
   "execution_count": 29,
   "metadata": {},
   "outputs": [
    {
     "ename": "ValueError",
     "evalue": "math domain error",
     "output_type": "error",
     "traceback": [
      "\u001b[0;31m---------------------------------------------------------------------------\u001b[0m",
      "\u001b[0;31mValueError\u001b[0m                                Traceback (most recent call last)",
      "\u001b[0;32m<ipython-input-29-f1893b17ad67>\u001b[0m in \u001b[0;36m<module>\u001b[0;34m()\u001b[0m\n\u001b[1;32m      1\u001b[0m \u001b[0;32mimport\u001b[0m \u001b[0mmath\u001b[0m\u001b[0;34m\u001b[0m\u001b[0m\n\u001b[1;32m      2\u001b[0m \u001b[0mx\u001b[0m \u001b[0;34m=\u001b[0m \u001b[0;34m'cat'\u001b[0m\u001b[0;34m\u001b[0m\u001b[0m\n\u001b[0;32m----> 3\u001b[0;31m \u001b[0mmath\u001b[0m\u001b[0;34m.\u001b[0m\u001b[0msqrt\u001b[0m\u001b[0;34m(\u001b[0m\u001b[0;34m-\u001b[0m\u001b[0;36m3\u001b[0m\u001b[0;34m)\u001b[0m\u001b[0;34m\u001b[0m\u001b[0m\n\u001b[0m",
      "\u001b[0;31mValueError\u001b[0m: math domain error"
     ]
    }
   ],
   "source": [
    "import math\n",
    "x = 'cat'\n",
    "math.sqrt(-3)"
   ]
  },
  {
   "cell_type": "code",
   "execution_count": 30,
   "metadata": {
    "collapsed": true
   },
   "outputs": [],
   "source": [
    "import math\n",
    "def my_sqrt(x):\n",
    "    try:\n",
    "        return math.sqrt(x)\n",
    "    except TypeError:\n",
    "        print('Type does not allow sqrt.')\n",
    "    except ValueError:\n",
    "        print('Negative?')\n",
    "    except:\n",
    "        print('Gosh, no idea what happened.')"
   ]
  },
  {
   "cell_type": "code",
   "execution_count": 31,
   "metadata": {},
   "outputs": [
    {
     "name": "stdout",
     "output_type": "stream",
     "text": [
      "Type does not allow sqrt.\n"
     ]
    }
   ],
   "source": [
    "my_sqrt('cat')"
   ]
  },
  {
   "cell_type": "code",
   "execution_count": 32,
   "metadata": {},
   "outputs": [
    {
     "name": "stdout",
     "output_type": "stream",
     "text": [
      "Negative?\n"
     ]
    }
   ],
   "source": [
    "my_sqrt(-10)"
   ]
  },
  {
   "cell_type": "code",
   "execution_count": 33,
   "metadata": {},
   "outputs": [
    {
     "data": {
      "text/plain": [
       "'/Users/keith/demo/L6_Files'"
      ]
     },
     "execution_count": 33,
     "metadata": {},
     "output_type": "execute_result"
    }
   ],
   "source": [
    "os.getcwd()"
   ]
  },
  {
   "cell_type": "code",
   "execution_count": 34,
   "metadata": {
    "collapsed": true
   },
   "outputs": [],
   "source": [
    "os.chdir('/Users/keith/Dropbox/Academe/Teaching/STATS701/Lecs/L6_Files/')"
   ]
  },
  {
   "cell_type": "code",
   "execution_count": 35,
   "metadata": {
    "collapsed": true
   },
   "outputs": [],
   "source": [
    "import math\n",
    "\n",
    "def is_prime(n):\n",
    "    if n <= 1:\n",
    "        return False\n",
    "    elif n==2:\n",
    "        return True\n",
    "    else:\n",
    "        ulim = math.ceil(math.sqrt(n))\n",
    "        for k in range(2,ulim+1):\n",
    "            if n%k==0:\n",
    "                return False\n",
    "        return True\n",
    "def is_square(n):\n",
    "    r = int(math.sqrt(n))\n",
    "    return(r*r==n or (r+1)*(r+1)==n)"
   ]
  },
  {
   "cell_type": "code",
   "execution_count": 36,
   "metadata": {},
   "outputs": [
    {
     "data": {
      "text/plain": [
       "True"
      ]
     },
     "execution_count": 36,
     "metadata": {},
     "output_type": "execute_result"
    }
   ],
   "source": [
    "import prime\n",
    "prime.is_prime(2)"
   ]
  },
  {
   "cell_type": "code",
   "execution_count": 37,
   "metadata": {},
   "outputs": [
    {
     "data": {
      "text/plain": [
       "True"
      ]
     },
     "execution_count": 37,
     "metadata": {},
     "output_type": "execute_result"
    }
   ],
   "source": [
    "prime.is_prime(3)"
   ]
  },
  {
   "cell_type": "code",
   "execution_count": 38,
   "metadata": {},
   "outputs": [
    {
     "data": {
      "text/plain": [
       "False"
      ]
     },
     "execution_count": 38,
     "metadata": {},
     "output_type": "execute_result"
    }
   ],
   "source": [
    "prime.is_prime(1)"
   ]
  },
  {
   "cell_type": "code",
   "execution_count": 39,
   "metadata": {},
   "outputs": [
    {
     "data": {
      "text/plain": [
       "True"
      ]
     },
     "execution_count": 39,
     "metadata": {},
     "output_type": "execute_result"
    }
   ],
   "source": [
    "prime.is_prime(23)"
   ]
  },
  {
   "cell_type": "code",
   "execution_count": 40,
   "metadata": {},
   "outputs": [
    {
     "data": {
      "text/plain": [
       "True"
      ]
     },
     "execution_count": 40,
     "metadata": {},
     "output_type": "execute_result"
    }
   ],
   "source": [
    "prime.is_square(25)"
   ]
  },
  {
   "cell_type": "code",
   "execution_count": 41,
   "metadata": {},
   "outputs": [
    {
     "data": {
      "text/plain": [
       "False"
      ]
     },
     "execution_count": 41,
     "metadata": {},
     "output_type": "execute_result"
    }
   ],
   "source": [
    "prime.is_square(5)"
   ]
  },
  {
   "cell_type": "code",
   "execution_count": 42,
   "metadata": {},
   "outputs": [
    {
     "data": {
      "text/plain": [
       "True"
      ]
     },
     "execution_count": 42,
     "metadata": {},
     "output_type": "execute_result"
    }
   ],
   "source": [
    "from prime import *\n",
    "is_prime(7)"
   ]
  },
  {
   "cell_type": "code",
   "execution_count": 44,
   "metadata": {},
   "outputs": [
    {
     "data": {
      "text/plain": [
       "False"
      ]
     },
     "execution_count": 44,
     "metadata": {},
     "output_type": "execute_result"
    }
   ],
   "source": [
    "is_square(7)"
   ]
  },
  {
   "cell_type": "code",
   "execution_count": 45,
   "metadata": {},
   "outputs": [
    {
     "data": {
      "text/plain": [
       "True"
      ]
     },
     "execution_count": 45,
     "metadata": {},
     "output_type": "execute_result"
    }
   ],
   "source": [
    "is_prime(373)"
   ]
  },
  {
   "cell_type": "code",
   "execution_count": 50,
   "metadata": {},
   "outputs": [
    {
     "data": {
      "text/plain": [
       "b'\\x80\\x03]q\\x00(K\\x01X\\x03\\x00\\x00\\x00twoq\\x01G@\\x08\\x00\\x00\\x00\\x00\\x00\\x00e.'"
      ]
     },
     "execution_count": 50,
     "metadata": {},
     "output_type": "execute_result"
    }
   ],
   "source": [
    "import pickle\n",
    "t1 = [1,'two',3.0]\n",
    "s = pickle.dumps(t1)\n",
    "s"
   ]
  },
  {
   "cell_type": "code",
   "execution_count": 51,
   "metadata": {},
   "outputs": [
    {
     "data": {
      "text/plain": [
       "True"
      ]
     },
     "execution_count": 51,
     "metadata": {},
     "output_type": "execute_result"
    }
   ],
   "source": [
    "t2 = pickle.loads(s)\n",
    "t1==t2"
   ]
  },
  {
   "cell_type": "code",
   "execution_count": 52,
   "metadata": {},
   "outputs": [
    {
     "data": {
      "text/plain": [
       "False"
      ]
     },
     "execution_count": 52,
     "metadata": {},
     "output_type": "execute_result"
    }
   ],
   "source": [
    "t1 is t2"
   ]
  },
  {
   "cell_type": "code",
   "execution_count": 1,
   "metadata": {
    "collapsed": true
   },
   "outputs": [],
   "source": [
    "class Point:\n",
    "    '''Represents a 2-d point.'''"
   ]
  },
  {
   "cell_type": "code",
   "execution_count": 4,
   "metadata": {},
   "outputs": [
    {
     "name": "stdout",
     "output_type": "stream",
     "text": [
      "<class '__main__.Point'>\n"
     ]
    }
   ],
   "source": [
    "print(Point)"
   ]
  },
  {
   "cell_type": "code",
   "execution_count": 5,
   "metadata": {},
   "outputs": [
    {
     "data": {
      "text/plain": [
       "__main__.Point"
      ]
     },
     "execution_count": 5,
     "metadata": {},
     "output_type": "execute_result"
    }
   ],
   "source": [
    "Point"
   ]
  },
  {
   "cell_type": "code",
   "execution_count": 2,
   "metadata": {},
   "outputs": [
    {
     "data": {
      "text/plain": [
       "<__main__.Point at 0x10481a7f0>"
      ]
     },
     "execution_count": 2,
     "metadata": {},
     "output_type": "execute_result"
    }
   ],
   "source": [
    "class Point:\n",
    "    '''Represents a 2-d point.'''\n",
    "    \n",
    "p = Point()\n",
    "p"
   ]
  },
  {
   "cell_type": "code",
   "execution_count": 4,
   "metadata": {},
   "outputs": [
    {
     "data": {
      "text/plain": [
       "(3.0, 4.0)"
      ]
     },
     "execution_count": 4,
     "metadata": {},
     "output_type": "execute_result"
    }
   ],
   "source": [
    "p = Point()\n",
    "p.x = 3.0\n",
    "p.y = 4.0\n",
    "(p.x,p.y)"
   ]
  },
  {
   "cell_type": "code",
   "execution_count": 5,
   "metadata": {},
   "outputs": [
    {
     "ename": "AttributeError",
     "evalue": "'Point' object has no attribute 'goat'",
     "output_type": "error",
     "traceback": [
      "\u001b[0;31m---------------------------------------------------------------------------\u001b[0m",
      "\u001b[0;31mAttributeError\u001b[0m                            Traceback (most recent call last)",
      "\u001b[0;32m<ipython-input-5-f74ee22f01ba>\u001b[0m in \u001b[0;36m<module>\u001b[0;34m()\u001b[0m\n\u001b[0;32m----> 1\u001b[0;31m \u001b[0mp\u001b[0m\u001b[0;34m.\u001b[0m\u001b[0mgoat\u001b[0m\u001b[0;34m\u001b[0m\u001b[0m\n\u001b[0m",
      "\u001b[0;31mAttributeError\u001b[0m: 'Point' object has no attribute 'goat'"
     ]
    }
   ],
   "source": [
    "p.goat"
   ]
  },
  {
   "cell_type": "code",
   "execution_count": 11,
   "metadata": {},
   "outputs": [],
   "source": [
    "class Point:\n",
    "    '''Represents a 2-d point.'''\n",
    "\n",
    "p = Point()\n",
    "p.x = 3.0\n",
    "p.y = 4.0"
   ]
  },
  {
   "cell_type": "code",
   "execution_count": 9,
   "metadata": {},
   "outputs": [
    {
     "data": {
      "text/plain": [
       "<__main__.Point at 0x10488a080>"
      ]
     },
     "execution_count": 9,
     "metadata": {},
     "output_type": "execute_result"
    }
   ],
   "source": [
    "p.x =  3.0\n",
    "p.y = 4.0\n",
    "p"
   ]
  },
  {
   "cell_type": "code",
   "execution_count": 12,
   "metadata": {
    "collapsed": true
   },
   "outputs": [],
   "source": [
    "class Point:\n",
    "    '''Represents a 2-d point.'''\n",
    "    \n",
    "class Rectangle:\n",
    "    '''Represents a rectangle whose\n",
    "    sides are parallel to the x and y axes.\n",
    "    Specified by its upper-left corner,\n",
    "    height, and width.'''\n",
    "    \n",
    "p = Point(); p.x = 3.0; p.y = 4.0\n",
    "r = Rectangle()\n",
    "r.corner = p\n",
    "r.height = 5.0\n",
    "r.width = 12.0"
   ]
  },
  {
   "cell_type": "code",
   "execution_count": 17,
   "metadata": {
    "collapsed": true
   },
   "outputs": [],
   "source": [
    "p1 = Point(); p1.x = 3.0; p1.y = 4.0\n",
    "r1 = Rectangle()\n",
    "r1.corner = p1\n",
    "r1.height = 5.0\n",
    "r1.width = 12.0\n",
    "\n",
    "r2 = Rectangle()\n",
    "r2.corner = Point()\n",
    "r2.corner.x = 3.0\n",
    "r2.corner.y = 4.0\n",
    "r2.height = 5.0\n",
    "r2.width = 12.0"
   ]
  },
  {
   "cell_type": "code",
   "execution_count": 19,
   "metadata": {},
   "outputs": [
    {
     "data": {
      "text/plain": [
       "(10.0, 24.0)"
      ]
     },
     "execution_count": 19,
     "metadata": {},
     "output_type": "execute_result"
    }
   ],
   "source": [
    "def double_sides(r):\n",
    "    rdouble = Rectangle()\n",
    "    rdouble.corner = r.corner\n",
    "    rdouble.height = 2*r.height\n",
    "    rdouble.width = 2*r.width\n",
    "    return(rdouble)\n",
    "\n",
    "p1 = Point(); p1.x = 3.0; p1.y = 4.0\n",
    "r1 = Rectangle()\n",
    "r1.corner = p1\n",
    "r1.height = 5.0\n",
    "r1.width = 12.0\n",
    "\n",
    "r2 = double_sides(r1)\n",
    "r2.height, r2.width"
   ]
  },
  {
   "cell_type": "code",
   "execution_count": 28,
   "metadata": {},
   "outputs": [
    {
     "data": {
      "text/plain": [
       "(5.0, 6.0)"
      ]
     },
     "execution_count": 28,
     "metadata": {},
     "output_type": "execute_result"
    }
   ],
   "source": [
    "p1 = Point(); p1.x = 3.0; p1.y = 4.0\n",
    "r1 = Rectangle()\n",
    "r1.corner = p1\n",
    "r1.height = 5.0; r1.width = 12.0\n",
    "r1.height = 2*r1.height\n",
    "\n",
    "def shift_rectangle(rec, dx, dy):\n",
    "    rec.corner.x = rec.corner.x + dx\n",
    "    rec.corner.y = rec.corner.y + dx\n",
    "\n",
    "shift_rectangle(r1, 2, 3)\n",
    "(r1.corner.x, r1.corner.y)"
   ]
  },
  {
   "cell_type": "code",
   "execution_count": 30,
   "metadata": {},
   "outputs": [
    {
     "data": {
      "text/plain": [
       "False"
      ]
     },
     "execution_count": 30,
     "metadata": {},
     "output_type": "execute_result"
    }
   ],
   "source": [
    "p1 = Point(); p1.x = 3.0; p1.y = 4.0\n",
    "import copy\n",
    "p2 = copy.copy(p1)\n",
    "p1 is p2"
   ]
  },
  {
   "cell_type": "code",
   "execution_count": 31,
   "metadata": {},
   "outputs": [
    {
     "data": {
      "text/plain": [
       "False"
      ]
     },
     "execution_count": 31,
     "metadata": {},
     "output_type": "execute_result"
    }
   ],
   "source": [
    "p1 == p2"
   ]
  },
  {
   "cell_type": "code",
   "execution_count": 34,
   "metadata": {},
   "outputs": [
    {
     "data": {
      "text/plain": [
       "True"
      ]
     },
     "execution_count": 34,
     "metadata": {},
     "output_type": "execute_result"
    }
   ],
   "source": [
    "p1 = Point(); p1.x = 3.0; p1.y = 4.0\n",
    "r1 = Rectangle()\n",
    "r1.corner = p1\n",
    "r1.height = 5.0; r1.width = 12.0\n",
    "r2 = copy.copy(r1)\n",
    "\n",
    "r1.corner is r2.corner"
   ]
  },
  {
   "cell_type": "code",
   "execution_count": 35,
   "metadata": {},
   "outputs": [
    {
     "data": {
      "text/plain": [
       "False"
      ]
     },
     "execution_count": 35,
     "metadata": {},
     "output_type": "execute_result"
    }
   ],
   "source": [
    "p1 = Point(); p1.x = 3.0; p1.y = 4.0\n",
    "r1 = Rectangle()\n",
    "r1.corner = p1\n",
    "r1.height = 5.0; r1.width = 12.0\n",
    "r2 = copy.deepcopy(r1)\n",
    "\n",
    "r1.corner is r2.corner"
   ]
  },
  {
   "cell_type": "code",
   "execution_count": 36,
   "metadata": {
    "collapsed": true
   },
   "outputs": [],
   "source": [
    "def double_sides(r):\n",
    "    rdouble = Rectangle()\n",
    "    rdouble.corner = r.corner\n",
    "    rdouble.height = 2*r.height\n",
    "    rdouble.width = 2*r.width\n",
    "    return(rdouble)\n",
    "\n",
    "def shift_rectangle(rec, dx, dy):\n",
    "    rec.corner.x = rec.corner.x + dx\n",
    "    rec.corner.y = rec.corner.y + dx"
   ]
  },
  {
   "cell_type": "code",
   "execution_count": 39,
   "metadata": {},
   "outputs": [
    {
     "name": "stdout",
     "output_type": "stream",
     "text": [
      "12:34:56\n"
     ]
    }
   ],
   "source": [
    "class Time:\n",
    "    '''Represents time on a 24 hour clock.\n",
    "    Attributes: int hours, int mins, int secs'''\n",
    "    \n",
    "    def print_time(self):\n",
    "        print(\"%.2d:%.2d:%.2d\" % (self.hours, self.mins, self.secs))\n",
    "        \n",
    "t = Time()\n",
    "t.hours=12; t.mins=34; t.secs=56\n",
    "t.print_time()"
   ]
  },
  {
   "cell_type": "code",
   "execution_count": 46,
   "metadata": {},
   "outputs": [
    {
     "data": {
      "text/plain": [
       "1337"
      ]
     },
     "execution_count": 46,
     "metadata": {},
     "output_type": "execute_result"
    }
   ],
   "source": [
    "class Time:\n",
    "    '''Represents time on a 24 hour clock.\n",
    "    Attributes: int hours, int mins, int secs'''\n",
    "    \n",
    "    def print_time(self):\n",
    "        print(\"%.2d:%.2d:%.2d\" % (self.hours, self.mins, self.secs))\n",
    "        \n",
    "    def time_to_int(self):\n",
    "        return(self.secs + 60*self.mins + 3600*self.hours)\n",
    "    \n",
    "def int_to_time(seconds):\n",
    "    '''Convert a number of seconds to a Time object.'''\n",
    "    t = Time()\n",
    "    (minutes, t.secs) = divmod(seconds,60)\n",
    "    (hrs, t.mins) = divmod(minutes,60)\n",
    "    t.hours = hrs % 24 #military time!\n",
    "    return t\n",
    "    \n",
    "t = int_to_time(1337)\n",
    "t.time_to_int()"
   ]
  },
  {
   "cell_type": "code",
   "execution_count": 52,
   "metadata": {},
   "outputs": [
    {
     "data": {
      "text/plain": [
       "2345"
      ]
     },
     "execution_count": 52,
     "metadata": {},
     "output_type": "execute_result"
    }
   ],
   "source": [
    "class Time:\n",
    "    '''Represents time on a 24 hour clock.\n",
    "    Attributes: int hours, int mins, int secs'''\n",
    "    def time_to_int(self):\n",
    "        return(self.secs + 60*self.mins + 3600*self.hours)\n",
    "    def print_time(self):\n",
    "        print(\"%.2d:%.2d:%.2d\" % (self.hours, self.mins, self.secs))\n",
    "    \n",
    "    def increment_pure(self, seconds):\n",
    "        '''Return new Time object representing this time\n",
    "        incremented by the given number of seconds.'''\n",
    "        t = Time()\n",
    "        t = int_to_time(self.time_to_int() + seconds)\n",
    "        return t\n",
    "        \n",
    "    def increment_modifier(self, seconds):\n",
    "        '''Increment this time by the given\n",
    "        number of seconds.'''\n",
    "        (mins, self.secs) = divmod(self.secs+seconds, 60)\n",
    "        (hours, self.mins) = divmod(self.mins+mins, 60)\n",
    "        self.hours = (self.hours + hours)%24\n",
    "\n",
    "t1 = int_to_time(1234)\n",
    "t1.increment_modifier(1111)\n",
    "t1.time_to_int()"
   ]
  },
  {
   "cell_type": "code",
   "execution_count": 55,
   "metadata": {},
   "outputs": [
    {
     "ename": "TypeError",
     "evalue": "increment_pure() takes 2 positional arguments but 3 were given",
     "output_type": "error",
     "traceback": [
      "\u001b[0;31m---------------------------------------------------------------------------\u001b[0m",
      "\u001b[0;31mTypeError\u001b[0m                                 Traceback (most recent call last)",
      "\u001b[0;32m<ipython-input-55-1d8fb5e5c628>\u001b[0m in \u001b[0;36m<module>\u001b[0;34m()\u001b[0m\n\u001b[1;32m     14\u001b[0m         \u001b[0;32mreturn\u001b[0m \u001b[0mt\u001b[0m\u001b[0;34m\u001b[0m\u001b[0m\n\u001b[1;32m     15\u001b[0m \u001b[0;34m\u001b[0m\u001b[0m\n\u001b[0;32m---> 16\u001b[0;31m \u001b[0mt1\u001b[0m\u001b[0;34m.\u001b[0m\u001b[0mincrement_pure\u001b[0m\u001b[0;34m(\u001b[0m\u001b[0;36m100\u001b[0m\u001b[0;34m,\u001b[0m \u001b[0;36m200\u001b[0m\u001b[0;34m)\u001b[0m\u001b[0;34m\u001b[0m\u001b[0m\n\u001b[0m",
      "\u001b[0;31mTypeError\u001b[0m: increment_pure() takes 2 positional arguments but 3 were given"
     ]
    }
   ],
   "source": [
    "class Time:\n",
    "    '''Represents time on a 24 hour clock.\n",
    "    Attributes: int hours, int mins, int secs'''\n",
    "    def time_to_int(self):\n",
    "        return(self.secs + 60*self.mins + 3600*self.hours)\n",
    "    def print_time(self):\n",
    "        print(\"%.2d:%.2d:%.2d\" % (self.hours, self.mins, self.secs))\n",
    "    \n",
    "    def increment_pure(self, seconds):\n",
    "        '''Return new Time object representing this time\n",
    "        incremented by the given number of seconds.'''\n",
    "        t = Time()\n",
    "        t = int_to_time(self.time_to_int() + seconds)\n",
    "        return t\n",
    "\n",
    "t1.increment_pure(100, 200)"
   ]
  },
  {
   "cell_type": "code",
   "execution_count": 56,
   "metadata": {},
   "outputs": [
    {
     "name": "stdout",
     "output_type": "stream",
     "text": [
      "00:00:00\n"
     ]
    }
   ],
   "source": [
    "class Time:\n",
    "    '''Represents time on a 24 hour clock.\n",
    "    Attributes: int hours, int mins, int secs'''\n",
    "    \n",
    "    def __init__(self, hours=0, mins=0, secs=0):\n",
    "        self.hours = hours\n",
    "        self.mins = mins\n",
    "        self.secs = secs\n",
    "    \n",
    "    def print_time(self):\n",
    "        print(\"%.2d:%.2d:%.2d\" % (self.hours, self.mins, self.secs))\n",
    "\n",
    "t = Time(); t.print_time()"
   ]
  },
  {
   "cell_type": "code",
   "execution_count": 60,
   "metadata": {},
   "outputs": [
    {
     "name": "stdout",
     "output_type": "stream",
     "text": [
      "10:00:00\n"
     ]
    }
   ],
   "source": [
    "t = Time(10); t.print_time()"
   ]
  },
  {
   "cell_type": "code",
   "execution_count": 61,
   "metadata": {},
   "outputs": [
    {
     "name": "stdout",
     "output_type": "stream",
     "text": [
      "10:20:00\n"
     ]
    }
   ],
   "source": [
    "t = Time(10,20); t.print_time()"
   ]
  },
  {
   "cell_type": "code",
   "execution_count": 63,
   "metadata": {},
   "outputs": [
    {
     "name": "stdout",
     "output_type": "stream",
     "text": [
      "10:20:30\n"
     ]
    }
   ],
   "source": [
    "class Time:\n",
    "    '''Represents time on a 24 hour clock.\n",
    "    Attributes: int hours, int mins, int secs'''\n",
    "    \n",
    "    def __init__(self, hours=0, mins=0, secs=0):\n",
    "        self.hours = hours\n",
    "        self.mins = mins\n",
    "        self.secs = secs\n",
    "    \n",
    "    def __str__(self):\n",
    "        return(\"%.2d:%.2d:%.2d\" % (self.hours, self.mins, self.secs))\n",
    "\n",
    "t = Time(10,20,30)\n",
    "print(t)"
   ]
  },
  {
   "cell_type": "code",
   "execution_count": 70,
   "metadata": {},
   "outputs": [
    {
     "name": "stdout",
     "output_type": "stream",
     "text": [
      "12:20:11\n"
     ]
    }
   ],
   "source": [
    "class Time:\n",
    "    '''Represents time on a 24 hour clock.\n",
    "    Attributes: int hours, int mins, int secs'''\n",
    "    \n",
    "    def __init__(self, hours=0, mins=0, secs=0):\n",
    "        self.hours = hours\n",
    "        self.mins = mins\n",
    "        self.secs = secs\n",
    "\n",
    "    def __str__(self):\n",
    "        return(\"%.2d:%.2d:%.2d\" % (self.hours, self.mins, self.secs))\n",
    "\n",
    "    def time_to_int(self):\n",
    "        return(self.secs + 60*self.mins + 3600*self.hours)\n",
    "    \n",
    "    def __add__(self, other):\n",
    "        '''Add other to this time, return result.'''\n",
    "        s = self.time_to_int() + other.time_to_int()\n",
    "        return(int_to_time(s))\n",
    "\n",
    "t1 = Time(11,15,10); t2 = Time(1,5,1)\n",
    "print(t1+t2)"
   ]
  },
  {
   "cell_type": "code",
   "execution_count": 2,
   "metadata": {
    "collapsed": true
   },
   "outputs": [],
   "source": [
    "def int_to_time(seconds):\n",
    "    '''Convert a number of seconds to a Time object.'''\n",
    "    t = Time()\n",
    "    (minutes, t.secs) = divmod(seconds,60)\n",
    "    (hrs, t.mins) = divmod(minutes,60)\n",
    "    t.hours = hrs % 24 #military time!\n",
    "    return t"
   ]
  },
  {
   "cell_type": "code",
   "execution_count": 3,
   "metadata": {},
   "outputs": [
    {
     "name": "stdout",
     "output_type": "stream",
     "text": [
      "12:20:11\n"
     ]
    }
   ],
   "source": [
    "class Time:\n",
    "    '''Represents time on a 24 hour clock.\n",
    "    Attributes: int hours, int mins, int secs'''\n",
    "    \n",
    "    def __init__(self, hours=0, mins=0, secs=0):\n",
    "        self.hours = hours\n",
    "        self.mins = mins\n",
    "        self.secs = secs\n",
    "\n",
    "    def __str__(self):\n",
    "        return(\"%.2d:%.2d:%.2d\" % (self.hours, self.mins, self.secs))\n",
    "\n",
    "    def time_to_int(self):\n",
    "        return(self.secs + 60*self.mins + 3600*self.hours)\n",
    "    \n",
    "    def __add__(self, other):\n",
    "        '''Add other to this time, return result.'''\n",
    "        s = self.time_to_int() + other.time_to_int()\n",
    "        return(int_to_time(s))\n",
    "\n",
    "t1 = Time(11,15,10); t2 = Time(1,5,1)\n",
    "print(t1+t2)"
   ]
  },
  {
   "cell_type": "code",
   "execution_count": 10,
   "metadata": {},
   "outputs": [
    {
     "ename": "TypeError",
     "evalue": "unsupported operand type(s) for +: 'int' and 'Time'",
     "output_type": "error",
     "traceback": [
      "\u001b[0;31m---------------------------------------------------------------------------\u001b[0m",
      "\u001b[0;31mTypeError\u001b[0m                                 Traceback (most recent call last)",
      "\u001b[0;32m<ipython-input-10-18f9bcbbe091>\u001b[0m in \u001b[0;36m<module>\u001b[0;34m()\u001b[0m\n\u001b[1;32m     26\u001b[0m \u001b[0;34m\u001b[0m\u001b[0m\n\u001b[1;32m     27\u001b[0m \u001b[0mt1\u001b[0m \u001b[0;34m=\u001b[0m \u001b[0mTime\u001b[0m\u001b[0;34m(\u001b[0m\u001b[0;36m11\u001b[0m\u001b[0;34m,\u001b[0m\u001b[0;36m15\u001b[0m\u001b[0;34m,\u001b[0m\u001b[0;36m10\u001b[0m\u001b[0;34m)\u001b[0m\u001b[0;34m\u001b[0m\u001b[0m\n\u001b[0;32m---> 28\u001b[0;31m \u001b[0mprint\u001b[0m\u001b[0;34m(\u001b[0m\u001b[0;36m60\u001b[0m \u001b[0;34m+\u001b[0m \u001b[0mt1\u001b[0m\u001b[0;34m)\u001b[0m\u001b[0;34m\u001b[0m\u001b[0m\n\u001b[0m",
      "\u001b[0;31mTypeError\u001b[0m: unsupported operand type(s) for +: 'int' and 'Time'"
     ]
    }
   ],
   "source": [
    "class Time:\n",
    "    '''Represents time on a 24 hour clock.\n",
    "    Attributes: int hours, int mins, int secs'''\n",
    "    \n",
    "    def __init__(self, hours=0, mins=0, secs=0):\n",
    "        self.hours = hours\n",
    "        self.mins = mins\n",
    "        self.secs = secs\n",
    "\n",
    "    def __str__(self):\n",
    "        return(\"%.2d:%.2d:%.2d\" % (self.hours, self.mins, self.secs))\n",
    "\n",
    "    def time_to_int(self):\n",
    "        return(self.secs + 60*self.mins + 3600*self.hours)\n",
    "    \n",
    "    def __add__(self, other):\n",
    "        '''Add other to this time, return result.'''\n",
    "        if isinstance(other,Time):\n",
    "            s = self.time_to_int() + other.time_to_int()\n",
    "            return(int_to_time(s))\n",
    "        elif isinstance(other,int):\n",
    "            s = self.time_to_int() + other\n",
    "            return(int_to_time(s))\n",
    "        else:\n",
    "            raise TypeError('Invalid type.')\n",
    "\n",
    "t1 = Time(11,15,10)\n",
    "print(60 + t1)"
   ]
  },
  {
   "cell_type": "code",
   "execution_count": 8,
   "metadata": {},
   "outputs": [
    {
     "data": {
      "text/plain": [
       "True"
      ]
     },
     "execution_count": 8,
     "metadata": {},
     "output_type": "execute_result"
    }
   ],
   "source": [
    "isinstance(10,int)"
   ]
  },
  {
   "cell_type": "code",
   "execution_count": 17,
   "metadata": {},
   "outputs": [
    {
     "data": {
      "text/plain": [
       "{'a': 1, 'e': 1, 'l': 1, 'p': 2}"
      ]
     },
     "execution_count": 17,
     "metadata": {},
     "output_type": "execute_result"
    }
   ],
   "source": [
    "def hist(s):\n",
    "    h = dict()\n",
    "    for x in s:\n",
    "        h[x] = h.get(x,0)+1\n",
    "    return h\n",
    "\n",
    "hist('apple')"
   ]
  },
  {
   "cell_type": "code",
   "execution_count": 18,
   "metadata": {},
   "outputs": [
    {
     "data": {
      "text/plain": [
       "{1: 2, 2: 1, 3: 1, 5: 1, 8: 1}"
      ]
     },
     "execution_count": 18,
     "metadata": {},
     "output_type": "execute_result"
    }
   ],
   "source": [
    "hist((1,1,2,3,5,8))"
   ]
  },
  {
   "cell_type": "code",
   "execution_count": 22,
   "metadata": {},
   "outputs": [
    {
     "data": {
      "text/plain": [
       "{'a': 3, 'c': 1, 'g': 1, 't': 2}"
      ]
     },
     "execution_count": 22,
     "metadata": {},
     "output_type": "execute_result"
    }
   ],
   "source": [
    "hist(list('gattaca'))"
   ]
  },
  {
   "cell_type": "code",
   "execution_count": 23,
   "metadata": {},
   "outputs": [
    {
     "name": "stdout",
     "output_type": "stream",
     "text": [
      "hours 11\n",
      "mins 15\n",
      "secs 10\n"
     ]
    }
   ],
   "source": [
    "for attr in vars(t1):\n",
    "    print(attr, getattr(t1,attr))"
   ]
  },
  {
   "cell_type": "code",
   "execution_count": 25,
   "metadata": {},
   "outputs": [
    {
     "data": {
      "text/plain": [
       "dict"
      ]
     },
     "execution_count": 25,
     "metadata": {},
     "output_type": "execute_result"
    }
   ],
   "source": [
    "type(vars(t1))"
   ]
  },
  {
   "cell_type": "code",
   "execution_count": 33,
   "metadata": {},
   "outputs": [
    {
     "name": "stdout",
     "output_type": "stream",
     "text": [
      "Ace of Spades\n"
     ]
    }
   ],
   "source": [
    "class Card:\n",
    "    '''Represents a playing card'''\n",
    "    \n",
    "    suit_names = ['Spades','Hearts','Diamonds','Clubs']\n",
    "    rank_names = [None,'Ace','2','3','4','5','6','7',\n",
    "                  '8','9','10','Jack','Queen','King']\n",
    "    \n",
    "    def __init__(self,suit=0,rank=2):\n",
    "        self.suit = suit\n",
    "        self.rank = rank\n",
    "    \n",
    "    def __str__(self):\n",
    "        rankstr = self.rank_names[self.rank]\n",
    "        suitstr = self.suit_names[self.suit]\n",
    "        return(\"%s of %s\" % (rankstr, suitstr))\n",
    "\n",
    "print(Card(0,1))"
   ]
  },
  {
   "cell_type": "code",
   "execution_count": 46,
   "metadata": {},
   "outputs": [
    {
     "data": {
      "text/plain": [
       "True"
      ]
     },
     "execution_count": 46,
     "metadata": {},
     "output_type": "execute_result"
    }
   ],
   "source": [
    "class Card:\n",
    "    '''Represents a playing card'''\n",
    "    \n",
    "    suit_names = ['Spades','Hearts','Diamonds','Clubs']\n",
    "    rank_names = [None,'Ace','2','3','4','5','6','7',\n",
    "                  '8','9','10','Jack','Queen','King']\n",
    "    \n",
    "    def __init__(self,suit=0,rank=2):\n",
    "        self.suit = suit\n",
    "        self.rank = rank\n",
    "\n",
    "    def __str__(self):\n",
    "        rankstr = self.rank_names[self.rank]\n",
    "        suitstr = self.suit_names[self.suit]\n",
    "        return(\"%s of %s\" % (rankstr, suitstr))\n",
    "\n",
    "    def __lt__(self, other):\n",
    "        t1 = (self.rank, self.suit)\n",
    "        t2 = (other.rank, other.suit)\n",
    "        return t1 < t2\n",
    "\n",
    "    def __gt__(self, other):\n",
    "        return other < self\n",
    "    \n",
    "    def __eq__(self, other):\n",
    "        return(self.rank==other.rank and self.suit==other.suit)\n",
    "c1 = Card(2,11); c2 = Card(2,12)\n",
    "c1 < c2"
   ]
  },
  {
   "cell_type": "code",
   "execution_count": 48,
   "metadata": {},
   "outputs": [
    {
     "name": "stdout",
     "output_type": "stream",
     "text": [
      "Jack of Diamonds\n"
     ]
    }
   ],
   "source": [
    "print(c1)"
   ]
  },
  {
   "cell_type": "code",
   "execution_count": 49,
   "metadata": {},
   "outputs": [
    {
     "name": "stdout",
     "output_type": "stream",
     "text": [
      "Ace of Spades\n",
      "2 of Spades\n",
      "3 of Spades\n",
      "4 of Spades\n",
      "5 of Spades\n",
      "6 of Spades\n",
      "7 of Spades\n",
      "8 of Spades\n",
      "9 of Spades\n",
      "10 of Spades\n",
      "Jack of Spades\n",
      "Queen of Spades\n",
      "King of Spades\n",
      "Ace of Hearts\n",
      "2 of Hearts\n",
      "3 of Hearts\n",
      "4 of Hearts\n",
      "5 of Hearts\n",
      "6 of Hearts\n",
      "7 of Hearts\n",
      "8 of Hearts\n",
      "9 of Hearts\n",
      "10 of Hearts\n",
      "Jack of Hearts\n",
      "Queen of Hearts\n",
      "King of Hearts\n",
      "Ace of Diamonds\n",
      "2 of Diamonds\n",
      "3 of Diamonds\n",
      "4 of Diamonds\n",
      "5 of Diamonds\n",
      "6 of Diamonds\n",
      "7 of Diamonds\n",
      "8 of Diamonds\n",
      "9 of Diamonds\n",
      "10 of Diamonds\n",
      "Jack of Diamonds\n",
      "Queen of Diamonds\n",
      "King of Diamonds\n",
      "Ace of Clubs\n",
      "2 of Clubs\n",
      "3 of Clubs\n",
      "4 of Clubs\n",
      "5 of Clubs\n",
      "6 of Clubs\n",
      "7 of Clubs\n",
      "8 of Clubs\n",
      "9 of Clubs\n",
      "10 of Clubs\n",
      "Jack of Clubs\n",
      "Queen of Clubs\n",
      "King of Clubs\n"
     ]
    }
   ],
   "source": [
    "class Deck:\n",
    "    '''Represents a deck of cards'''\n",
    "    def __init__(self):\n",
    "        self.cards = list()\n",
    "        for suit in range(4):\n",
    "            for rank in range(1,14):\n",
    "                card = Card(suit,rank)\n",
    "                self.cards.append(card)\n",
    "        \n",
    "    def __str__(self):\n",
    "        res = list()\n",
    "        for c in self.cards:\n",
    "            res.append(str(c))\n",
    "        return('\\n'.join(res))\n",
    "                \n",
    "d = Deck()\n",
    "print(d)"
   ]
  },
  {
   "cell_type": "code",
   "execution_count": 62,
   "metadata": {
    "collapsed": true
   },
   "outputs": [],
   "source": [
    "import random\n",
    "class Deck:\n",
    "    '''Represents a deck of cards'''\n",
    "    def __init__(self):\n",
    "        self.cards = list()\n",
    "        for suit in range(4):\n",
    "            for rank in range(1,14):\n",
    "                card = Card(suit,rank)\n",
    "                self.cards.append(card)\n",
    "        \n",
    "    def __str__(self):\n",
    "        res = list()\n",
    "        for c in self.cards:\n",
    "            res.append(str(c))\n",
    "        return('\\n'.join(res))\n",
    "    \n",
    "    def pop_card(self):\n",
    "        return(self.cards.pop())\n",
    "    def add_card(self,c):\n",
    "        self.cards.append(c)\n",
    "    def shuffle(self):\n",
    "        random.shuffle(self.cards)\n",
    "    \n",
    "    def move_cards(self, hand, ncards):\n",
    "        for i in range(ncards):\n",
    "            hand.add_card(self.pop_card())"
   ]
  },
  {
   "cell_type": "code",
   "execution_count": 53,
   "metadata": {},
   "outputs": [
    {
     "name": "stdout",
     "output_type": "stream",
     "text": [
      "2 of Hearts\n",
      "9 of Clubs\n",
      "Ace of Spades\n",
      "3 of Clubs\n",
      "6 of Spades\n",
      "10 of Clubs\n",
      "3 of Spades\n",
      "4 of Diamonds\n",
      "King of Clubs\n",
      "9 of Hearts\n",
      "8 of Clubs\n",
      "3 of Diamonds\n",
      "Jack of Clubs\n",
      "King of Diamonds\n",
      "6 of Hearts\n",
      "Jack of Hearts\n",
      "2 of Diamonds\n",
      "5 of Spades\n",
      "6 of Clubs\n",
      "Jack of Diamonds\n",
      "10 of Diamonds\n",
      "King of Hearts\n",
      "7 of Diamonds\n",
      "10 of Spades\n",
      "5 of Diamonds\n",
      "4 of Hearts\n",
      "8 of Diamonds\n",
      "2 of Clubs\n",
      "Ace of Diamonds\n",
      "10 of Hearts\n",
      "Queen of Spades\n",
      "Queen of Hearts\n",
      "7 of Hearts\n",
      "King of Spades\n",
      "Jack of Spades\n",
      "Queen of Clubs\n",
      "2 of Spades\n",
      "Ace of Clubs\n",
      "9 of Spades\n",
      "7 of Spades\n",
      "Queen of Diamonds\n",
      "9 of Diamonds\n",
      "6 of Diamonds\n",
      "4 of Spades\n",
      "5 of Hearts\n",
      "5 of Clubs\n",
      "3 of Hearts\n",
      "8 of Hearts\n",
      "8 of Spades\n",
      "4 of Clubs\n",
      "7 of Clubs\n",
      "Ace of Hearts\n"
     ]
    }
   ],
   "source": [
    "d = Deck()\n",
    "d.shuffle()\n",
    "print(d)"
   ]
  },
  {
   "cell_type": "code",
   "execution_count": 57,
   "metadata": {},
   "outputs": [],
   "source": [
    "class Hand(Deck):\n",
    "    '''Represents a hand of cards'''\n",
    "\n",
    "h = Hand()\n",
    "h.shuffle()"
   ]
  },
  {
   "cell_type": "code",
   "execution_count": 59,
   "metadata": {},
   "outputs": [
    {
     "name": "stdout",
     "output_type": "stream",
     "text": [
      "6 of Spades\n"
     ]
    }
   ],
   "source": [
    "class Hand(Deck):\n",
    "    '''Represents a hand of cards'''\n",
    "    \n",
    "    def __init__(self, label=''):\n",
    "        self.cards = list()\n",
    "        self.label=label\n",
    "    \n",
    "h = Hand('new hand')\n",
    "d = Deck(); d.shuffle()\n",
    "h.add_card(d.pop_card())\n",
    "print(h)"
   ]
  },
  {
   "cell_type": "code",
   "execution_count": 63,
   "metadata": {},
   "outputs": [
    {
     "name": "stdout",
     "output_type": "stream",
     "text": [
      "2 of Spades\n",
      "King of Spades\n",
      "9 of Diamonds\n",
      "2 of Diamonds\n",
      "7 of Clubs\n"
     ]
    }
   ],
   "source": [
    "d = Deck(); d.shuffle()\n",
    "h = Hand()\n",
    "d.move_cards(h,5)\n",
    "print(h)"
   ]
  },
  {
   "cell_type": "code",
   "execution_count": null,
   "metadata": {
    "collapsed": true
   },
   "outputs": [],
   "source": []
  }
 ],
 "metadata": {
  "kernelspec": {
   "display_name": "Python 3",
   "language": "python",
   "name": "python3"
  },
  "language_info": {
   "codemirror_mode": {
    "name": "ipython",
    "version": 3
   },
   "file_extension": ".py",
   "mimetype": "text/x-python",
   "name": "python",
   "nbconvert_exporter": "python",
   "pygments_lexer": "ipython3",
   "version": "3.6.5"
  }
 },
 "nbformat": 4,
 "nbformat_minor": 2
}
